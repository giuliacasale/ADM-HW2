{
 "cells": [
  {
   "cell_type": "markdown",
   "metadata": {},
   "source": [
    "# HOMEWORK 2 - ADM"
   ]
  },
  {
   "cell_type": "code",
   "execution_count": 1,
   "metadata": {},
   "outputs": [],
   "source": [
    "import pandas as pd\n",
    "import matplotlib.pyplot as plt\n",
    "import methods\n",
    "import datetime"
   ]
  },
  {
   "cell_type": "markdown",
   "metadata": {},
   "source": [
    "## READ THE DATA"
   ]
  },
  {
   "cell_type": "code",
   "execution_count": 2,
   "metadata": {},
   "outputs": [],
   "source": [
    "df_names = [\"./datasets/2019-Nov.csv\", \"./datasets/2019-Oct.csv\"]"
   ]
  },
  {
   "cell_type": "markdown",
   "metadata": {},
   "source": [
    "## UNDERSTAND THE DATA "
   ]
  },
  {
   "cell_type": "markdown",
   "metadata": {},
   "source": [
    "The data that we handle for this homework come from an online store. We are going to analyze two months: October and November. For each month we have different features that we have described below: "
   ]
  },
  {
   "cell_type": "code",
   "execution_count": 3,
   "metadata": {
    "scrolled": false
   },
   "outputs": [
    {
     "name": "stdout",
     "output_type": "stream",
     "text": [
      "Info for October\n",
      "<class 'pandas.core.frame.DataFrame'>\n",
      "RangeIndex: 42448764 entries, 0 to 42448763\n",
      "Data columns (total 9 columns):\n",
      " #   Column         Dtype  \n",
      "---  ------         -----  \n",
      " 0   event_time     object \n",
      " 1   event_type     object \n",
      " 2   product_id     int64  \n",
      " 3   category_id    int64  \n",
      " 4   category_code  object \n",
      " 5   brand          object \n",
      " 6   price          float64\n",
      " 7   user_id        int64  \n",
      " 8   user_session   object \n",
      "dtypes: float64(1), int64(3), object(5)\n",
      "memory usage: 2.8+ GB\n",
      "None \n",
      "\n",
      "The total number of null values in each column is:\n",
      "event_time              0\n",
      "event_type              0\n",
      "product_id              0\n",
      "category_id             0\n",
      "category_code    13515609\n",
      "brand             6117080\n",
      "price                   0\n",
      "user_id                 0\n",
      "user_session            2\n",
      "dtype: int64 \n",
      "\n",
      "Info for November\n",
      "<class 'pandas.core.frame.DataFrame'>\n",
      "RangeIndex: 67501979 entries, 0 to 67501978\n",
      "Data columns (total 9 columns):\n",
      " #   Column         Dtype  \n",
      "---  ------         -----  \n",
      " 0   event_time     object \n",
      " 1   event_type     object \n",
      " 2   product_id     int64  \n",
      " 3   category_id    int64  \n",
      " 4   category_code  object \n",
      " 5   brand          object \n",
      " 6   price          float64\n",
      " 7   user_id        int64  \n",
      " 8   user_session   object \n",
      "dtypes: float64(1), int64(3), object(5)\n",
      "memory usage: 4.5+ GB\n",
      "None \n",
      "\n",
      "The total number of null values in each column is:\n",
      "event_time              0\n",
      "event_type              0\n",
      "product_id              0\n",
      "category_id             0\n",
      "category_code    21898171\n",
      "brand             9224078\n",
      "price                   0\n",
      "user_id                 0\n",
      "user_session           10\n",
      "dtype: int64 \n",
      "\n"
     ]
    }
   ],
   "source": [
    "methods.describe_df(df_names)"
   ]
  },
  {
   "cell_type": "markdown",
   "metadata": {},
   "source": [
    "We notice that there are some null values, but these are only inside two specific columns: *category_code* and *brand*. Since, for each question, we decide which columns we needed to read to answer it, we decided to handle null values inside a specific question only in the cases where they were actually relevant. (If we do so it will be specified in the *methods.py* file)"
   ]
  },
  {
   "cell_type": "markdown",
   "metadata": {},
   "source": [
    "# QUESTION 1\n",
    "## Which is the rate of complete funnels?"
   ]
  },
  {
   "cell_type": "markdown",
   "metadata": {},
   "source": [
    "First of all we read the DataFrame, importing only the columns that we need. In this particular case, for the subquestions 1.1-1.2-1.3 we just need *user_session*,*event_type* and *product_id*"
   ]
  },
  {
   "cell_type": "code",
   "execution_count": 5,
   "metadata": {},
   "outputs": [],
   "source": [
    "df1 = methods.loadAllDatasets(df_names, ['user_session','event_type','product_id'])"
   ]
  },
  {
   "cell_type": "markdown",
   "metadata": {},
   "source": [
    "While, for the subquestions 1.4 and 1.5 we need *user_session*,*event_type*, *product_id* and *event_time*. We also need to parse the last column so that it will be recognized as a date and not as a string"
   ]
  },
  {
   "cell_type": "code",
   "execution_count": 4,
   "metadata": {},
   "outputs": [],
   "source": [
    "df2 = methods.loadAllDatasetsWithParser(df_names)"
   ]
  },
  {
   "cell_type": "markdown",
   "metadata": {},
   "source": [
    "**RQ1.1** What’s the operation users repeat more on average within a session? Produce a plot that shows the average number of times users perform each operation (view/removefromchart etc etc)"
   ]
  },
  {
   "cell_type": "code",
   "execution_count": 6,
   "metadata": {
    "scrolled": true
   },
   "outputs": [
    {
     "data": {
      "image/png": "[encoded data removed]",
      "text/plain": [
       "<Figure size 432x288 with 1 Axes>"
      ]
     },
     "metadata": {
      "needs_background": "light"
     },
     "output_type": "display_data"
    }
   ],
   "source": [
    "methods.avg_operations_performed(df1)"
   ]
  },
  {
   "cell_type": "markdown",
   "metadata": {},
   "source": [
    "As we can notice in the graph above, in average, users tend to view products a lot, but, only in few occasions, the put them in the cart. Also, after one item is inside a cart is not garanteed to be purchased, in fact that operation has a lower average.\n",
    "\n",
    "The event type *remove from cart* has an average of 0 beacuse in the months of October and November never happened."
   ]
  },
  {
   "cell_type": "markdown",
   "metadata": {},
   "source": [
    "<p>&nbsp;</p>"
   ]
  },
  {
   "cell_type": "markdown",
   "metadata": {},
   "source": [
    "**RQ1.2** How many times, on average, a user views a product before adding it to the cart?"
   ]
  },
  {
   "cell_type": "code",
   "execution_count": 7,
   "metadata": {},
   "outputs": [
    {
     "name": "stdout",
     "output_type": "stream",
     "text": [
      "In average, a user views a product 1.874 times before adding it to the cart.\n"
     ]
    }
   ],
   "source": [
    "avg = methods.avg_views_before_cart(df1)\n",
    "print(f\"In average, a user views a product {avg} times before adding it to the cart.\")"
   ]
  },
  {
   "cell_type": "markdown",
   "metadata": {},
   "source": [
    "<p>&nbsp;</p>"
   ]
  },
  {
   "cell_type": "markdown",
   "metadata": {},
   "source": [
    "**RQ1.3** What’s the probability that products added once to the cart are effectively bought?"
   ]
  },
  {
   "cell_type": "code",
   "execution_count": 9,
   "metadata": {},
   "outputs": [],
   "source": [
    "avg = methods.avg_purchase_after_cart(df1)"
   ]
  },
  {
   "cell_type": "code",
   "execution_count": 11,
   "metadata": {
    "scrolled": true
   },
   "outputs": [
    {
     "name": "stdout",
     "output_type": "stream",
     "text": [
      "The probability that products added once to the cart are effectively bought is: 0.38\n"
     ]
    }
   ],
   "source": [
    "print(f\"The probability that products added once to the cart are effectively bought is: {avg}\")"
   ]
  },
  {
   "cell_type": "markdown",
   "metadata": {},
   "source": [
    "<p>&nbsp;</p>"
   ]
  },
  {
   "cell_type": "markdown",
   "metadata": {},
   "source": [
    "**RQ1.4** What’s the average time an item stays in the cart before being removed?"
   ]
  },
  {
   "cell_type": "code",
   "execution_count": null,
   "metadata": {},
   "outputs": [],
   "source": [
    "methods.avg_time_cart_before_removal(df2)"
   ]
  },
  {
   "cell_type": "markdown",
   "metadata": {},
   "source": [
    "**!!** This function can not be runned if we take only into account October and November because, in these months the event remove_from_cart does not exists as we can see below:"
   ]
  },
  {
   "cell_type": "code",
   "execution_count": 13,
   "metadata": {},
   "outputs": [
    {
     "data": {
      "text/plain": [
       "array(['view', 'purchase', 'cart'], dtype=object)"
      ]
     },
     "execution_count": 13,
     "metadata": {},
     "output_type": "execute_result"
    }
   ],
   "source": [
    "df2.event_type.unique()"
   ]
  },
  {
   "cell_type": "markdown",
   "metadata": {},
   "source": [
    "If we try and run it we will get an error since we are performing operations (in particular divisions) with an empty series.\n",
    "<p>&nbsp;</p>"
   ]
  },
  {
   "cell_type": "markdown",
   "metadata": {},
   "source": [
    "**RQ1.5** How much time passes on average between the first view time and a purchase/addition to cart?"
   ]
  },
  {
   "cell_type": "code",
   "execution_count": 4,
   "metadata": {
    "scrolled": true
   },
   "outputs": [
    {
     "data": {
      "text/html": [
       "<div>\n",
       "<style scoped>\n",
       "    .dataframe tbody tr th:only-of-type {\n",
       "        vertical-align: middle;\n",
       "    }\n",
       "\n",
       "    .dataframe tbody tr th {\n",
       "        vertical-align: top;\n",
       "    }\n",
       "\n",
       "    .dataframe thead th {\n",
       "        text-align: right;\n",
       "    }\n",
       "</style>\n",
       "<table border=\"1\" class=\"dataframe\">\n",
       "  <thead>\n",
       "    <tr style=\"text-align: right;\">\n",
       "      <th></th>\n",
       "      <th>event_time_x</th>\n",
       "      <th>event_type_x</th>\n",
       "      <th>product_id</th>\n",
       "      <th>user_session</th>\n",
       "      <th>event_time_y</th>\n",
       "      <th>event_type_y</th>\n",
       "      <th>difference_times</th>\n",
       "    </tr>\n",
       "  </thead>\n",
       "  <tbody>\n",
       "    <tr>\n",
       "      <th>0</th>\n",
       "      <td>2019-10-06 11:32:50+00:00</td>\n",
       "      <td>view</td>\n",
       "      <td>1004870</td>\n",
       "      <td>00000083-8816-4d58-a9b8-f52f54186edc</td>\n",
       "      <td>2019-10-06 11:33:54+00:00</td>\n",
       "      <td>cart</td>\n",
       "      <td>64</td>\n",
       "    </tr>\n",
       "    <tr>\n",
       "      <th>1</th>\n",
       "      <td>2019-10-25 08:32:40+00:00</td>\n",
       "      <td>view</td>\n",
       "      <td>1004834</td>\n",
       "      <td>000001fd-1f89-45e8-a3ce-fe3218cabfad</td>\n",
       "      <td>2019-10-25 08:34:23+00:00</td>\n",
       "      <td>cart</td>\n",
       "      <td>103</td>\n",
       "    </tr>\n",
       "    <tr>\n",
       "      <th>2</th>\n",
       "      <td>2019-11-15 05:13:17+00:00</td>\n",
       "      <td>view</td>\n",
       "      <td>6200260</td>\n",
       "      <td>00003d51-f077-4b44-a0cc-4e9282a439a1</td>\n",
       "      <td>2019-11-15 05:14:24+00:00</td>\n",
       "      <td>cart</td>\n",
       "      <td>67</td>\n",
       "    </tr>\n",
       "    <tr>\n",
       "      <th>3</th>\n",
       "      <td>2019-11-11 03:35:08+00:00</td>\n",
       "      <td>view</td>\n",
       "      <td>5100719</td>\n",
       "      <td>00003e3b-b365-4460-bf59-fcc0c1491c97</td>\n",
       "      <td>2019-11-11 03:35:11+00:00</td>\n",
       "      <td>cart</td>\n",
       "      <td>3</td>\n",
       "    </tr>\n",
       "    <tr>\n",
       "      <th>4</th>\n",
       "      <td>2019-11-15 05:34:04+00:00</td>\n",
       "      <td>view</td>\n",
       "      <td>12703050</td>\n",
       "      <td>000047aa-c8c4-408f-a37f-fc2f39a7728e</td>\n",
       "      <td>2019-11-15 05:34:20+00:00</td>\n",
       "      <td>cart</td>\n",
       "      <td>16</td>\n",
       "    </tr>\n",
       "    <tr>\n",
       "      <th>...</th>\n",
       "      <td>...</td>\n",
       "      <td>...</td>\n",
       "      <td>...</td>\n",
       "      <td>...</td>\n",
       "      <td>...</td>\n",
       "      <td>...</td>\n",
       "      <td>...</td>\n",
       "    </tr>\n",
       "    <tr>\n",
       "      <th>2670922</th>\n",
       "      <td>2019-11-25 10:51:31+00:00</td>\n",
       "      <td>view</td>\n",
       "      <td>22700127</td>\n",
       "      <td>fffff038-a8d6-4c8a-9bf3-afe71b52733a</td>\n",
       "      <td>2019-11-25 10:52:04+00:00</td>\n",
       "      <td>cart</td>\n",
       "      <td>33</td>\n",
       "    </tr>\n",
       "    <tr>\n",
       "      <th>2670923</th>\n",
       "      <td>2019-11-25 10:54:31+00:00</td>\n",
       "      <td>view</td>\n",
       "      <td>22700128</td>\n",
       "      <td>fffff038-a8d6-4c8a-9bf3-afe71b52733a</td>\n",
       "      <td>2019-11-25 10:55:22+00:00</td>\n",
       "      <td>cart</td>\n",
       "      <td>51</td>\n",
       "    </tr>\n",
       "    <tr>\n",
       "      <th>2670924</th>\n",
       "      <td>2019-11-17 05:38:10+00:00</td>\n",
       "      <td>view</td>\n",
       "      <td>12720089</td>\n",
       "      <td>fffff736-405e-485f-ac84-6a622ef44329</td>\n",
       "      <td>2019-11-17 05:38:12+00:00</td>\n",
       "      <td>cart</td>\n",
       "      <td>2</td>\n",
       "    </tr>\n",
       "    <tr>\n",
       "      <th>2670925</th>\n",
       "      <td>2019-11-17 05:44:01+00:00</td>\n",
       "      <td>view</td>\n",
       "      <td>30100076</td>\n",
       "      <td>fffff736-405e-485f-ac84-6a622ef44329</td>\n",
       "      <td>2019-11-17 05:50:41+00:00</td>\n",
       "      <td>cart</td>\n",
       "      <td>400</td>\n",
       "    </tr>\n",
       "    <tr>\n",
       "      <th>2670926</th>\n",
       "      <td>2019-11-17 14:07:11+00:00</td>\n",
       "      <td>view</td>\n",
       "      <td>1004856</td>\n",
       "      <td>fffffd01-5f95-4916-b2dd-491c603d6c9c</td>\n",
       "      <td>2019-11-17 14:07:42+00:00</td>\n",
       "      <td>cart</td>\n",
       "      <td>31</td>\n",
       "    </tr>\n",
       "  </tbody>\n",
       "</table>\n",
       "<p>2670927 rows × 7 columns</p>\n",
       "</div>"
      ],
      "text/plain": [
       "                     event_time_x event_type_x  product_id  \\\n",
       "0       2019-10-06 11:32:50+00:00         view     1004870   \n",
       "1       2019-10-25 08:32:40+00:00         view     1004834   \n",
       "2       2019-11-15 05:13:17+00:00         view     6200260   \n",
       "3       2019-11-11 03:35:08+00:00         view     5100719   \n",
       "4       2019-11-15 05:34:04+00:00         view    12703050   \n",
       "...                           ...          ...         ...   \n",
       "2670922 2019-11-25 10:51:31+00:00         view    22700127   \n",
       "2670923 2019-11-25 10:54:31+00:00         view    22700128   \n",
       "2670924 2019-11-17 05:38:10+00:00         view    12720089   \n",
       "2670925 2019-11-17 05:44:01+00:00         view    30100076   \n",
       "2670926 2019-11-17 14:07:11+00:00         view     1004856   \n",
       "\n",
       "                                 user_session              event_time_y  \\\n",
       "0        00000083-8816-4d58-a9b8-f52f54186edc 2019-10-06 11:33:54+00:00   \n",
       "1        000001fd-1f89-45e8-a3ce-fe3218cabfad 2019-10-25 08:34:23+00:00   \n",
       "2        00003d51-f077-4b44-a0cc-4e9282a439a1 2019-11-15 05:14:24+00:00   \n",
       "3        00003e3b-b365-4460-bf59-fcc0c1491c97 2019-11-11 03:35:11+00:00   \n",
       "4        000047aa-c8c4-408f-a37f-fc2f39a7728e 2019-11-15 05:34:20+00:00   \n",
       "...                                       ...                       ...   \n",
       "2670922  fffff038-a8d6-4c8a-9bf3-afe71b52733a 2019-11-25 10:52:04+00:00   \n",
       "2670923  fffff038-a8d6-4c8a-9bf3-afe71b52733a 2019-11-25 10:55:22+00:00   \n",
       "2670924  fffff736-405e-485f-ac84-6a622ef44329 2019-11-17 05:38:12+00:00   \n",
       "2670925  fffff736-405e-485f-ac84-6a622ef44329 2019-11-17 05:50:41+00:00   \n",
       "2670926  fffffd01-5f95-4916-b2dd-491c603d6c9c 2019-11-17 14:07:42+00:00   \n",
       "\n",
       "        event_type_y  difference_times  \n",
       "0               cart                64  \n",
       "1               cart               103  \n",
       "2               cart                67  \n",
       "3               cart                 3  \n",
       "4               cart                16  \n",
       "...              ...               ...  \n",
       "2670922         cart                33  \n",
       "2670923         cart                51  \n",
       "2670924         cart                 2  \n",
       "2670925         cart               400  \n",
       "2670926         cart                31  \n",
       "\n",
       "[2670927 rows x 7 columns]"
      ]
     },
     "metadata": {},
     "output_type": "display_data"
    },
    {
     "name": "stdout",
     "output_type": "stream",
     "text": [
      "The average time that passes between the first time that an item is view and the moment in which that item is added to the cart is: 3.54 mins\n"
     ]
    }
   ],
   "source": [
    "avg = methods.avg_time_between_view_and_cart(df2)\n",
    "print(f\"The average time that passes between the first time that an item is viewed and the moment in which that item is added to the cart is: {round(avg,2)} mins\")"
   ]
  },
  {
   "cell_type": "markdown",
   "metadata": {},
   "source": [
    "<p>&nbsp;</p>"
   ]
  },
  {
   "cell_type": "code",
   "execution_count": 5,
   "metadata": {
    "scrolled": false
   },
   "outputs": [
    {
     "data": {
      "text/html": [
       "<div>\n",
       "<style scoped>\n",
       "    .dataframe tbody tr th:only-of-type {\n",
       "        vertical-align: middle;\n",
       "    }\n",
       "\n",
       "    .dataframe tbody tr th {\n",
       "        vertical-align: top;\n",
       "    }\n",
       "\n",
       "    .dataframe thead th {\n",
       "        text-align: right;\n",
       "    }\n",
       "</style>\n",
       "<table border=\"1\" class=\"dataframe\">\n",
       "  <thead>\n",
       "    <tr style=\"text-align: right;\">\n",
       "      <th></th>\n",
       "      <th>event_time_x</th>\n",
       "      <th>event_type_x</th>\n",
       "      <th>product_id</th>\n",
       "      <th>user_session</th>\n",
       "      <th>event_time_y</th>\n",
       "      <th>event_type_y</th>\n",
       "      <th>difference_times</th>\n",
       "    </tr>\n",
       "  </thead>\n",
       "  <tbody>\n",
       "    <tr>\n",
       "      <th>0</th>\n",
       "      <td>2019-10-06 11:32:50+00:00</td>\n",
       "      <td>view</td>\n",
       "      <td>1004870</td>\n",
       "      <td>00000083-8816-4d58-a9b8-f52f54186edc</td>\n",
       "      <td>2019-10-06 11:34:30+00:00</td>\n",
       "      <td>purchase</td>\n",
       "      <td>100</td>\n",
       "    </tr>\n",
       "    <tr>\n",
       "      <th>1</th>\n",
       "      <td>2019-10-25 08:32:40+00:00</td>\n",
       "      <td>view</td>\n",
       "      <td>1004834</td>\n",
       "      <td>000001fd-1f89-45e8-a3ce-fe3218cabfad</td>\n",
       "      <td>2019-10-25 08:39:11+00:00</td>\n",
       "      <td>purchase</td>\n",
       "      <td>391</td>\n",
       "    </tr>\n",
       "    <tr>\n",
       "      <th>2</th>\n",
       "      <td>2019-11-02 08:31:10+00:00</td>\n",
       "      <td>view</td>\n",
       "      <td>17302616</td>\n",
       "      <td>0000145a-b981-424b-ba76-5e8f50beb12d</td>\n",
       "      <td>2019-11-02 08:35:35+00:00</td>\n",
       "      <td>purchase</td>\n",
       "      <td>265</td>\n",
       "    </tr>\n",
       "    <tr>\n",
       "      <th>3</th>\n",
       "      <td>2019-11-11 03:35:08+00:00</td>\n",
       "      <td>view</td>\n",
       "      <td>5100719</td>\n",
       "      <td>00003e3b-b365-4460-bf59-fcc0c1491c97</td>\n",
       "      <td>2019-11-11 03:35:34+00:00</td>\n",
       "      <td>purchase</td>\n",
       "      <td>26</td>\n",
       "    </tr>\n",
       "    <tr>\n",
       "      <th>4</th>\n",
       "      <td>2019-10-17 13:34:16+00:00</td>\n",
       "      <td>view</td>\n",
       "      <td>1005031</td>\n",
       "      <td>00004ada-8f93-49a6-956d-4ed71ae94791</td>\n",
       "      <td>2019-10-17 13:35:24+00:00</td>\n",
       "      <td>purchase</td>\n",
       "      <td>68</td>\n",
       "    </tr>\n",
       "    <tr>\n",
       "      <th>...</th>\n",
       "      <td>...</td>\n",
       "      <td>...</td>\n",
       "      <td>...</td>\n",
       "      <td>...</td>\n",
       "      <td>...</td>\n",
       "      <td>...</td>\n",
       "      <td>...</td>\n",
       "    </tr>\n",
       "    <tr>\n",
       "      <th>1536928</th>\n",
       "      <td>2019-11-25 10:51:31+00:00</td>\n",
       "      <td>view</td>\n",
       "      <td>22700127</td>\n",
       "      <td>fffff038-a8d6-4c8a-9bf3-afe71b52733a</td>\n",
       "      <td>2019-11-25 10:53:28+00:00</td>\n",
       "      <td>purchase</td>\n",
       "      <td>117</td>\n",
       "    </tr>\n",
       "    <tr>\n",
       "      <th>1536929</th>\n",
       "      <td>2019-11-25 10:54:31+00:00</td>\n",
       "      <td>view</td>\n",
       "      <td>22700128</td>\n",
       "      <td>fffff038-a8d6-4c8a-9bf3-afe71b52733a</td>\n",
       "      <td>2019-11-25 10:56:59+00:00</td>\n",
       "      <td>purchase</td>\n",
       "      <td>148</td>\n",
       "    </tr>\n",
       "    <tr>\n",
       "      <th>1536930</th>\n",
       "      <td>2019-11-17 05:38:10+00:00</td>\n",
       "      <td>view</td>\n",
       "      <td>12720089</td>\n",
       "      <td>fffff736-405e-485f-ac84-6a622ef44329</td>\n",
       "      <td>2019-11-17 05:40:56+00:00</td>\n",
       "      <td>purchase</td>\n",
       "      <td>166</td>\n",
       "    </tr>\n",
       "    <tr>\n",
       "      <th>1536931</th>\n",
       "      <td>2019-11-17 05:44:01+00:00</td>\n",
       "      <td>view</td>\n",
       "      <td>30100076</td>\n",
       "      <td>fffff736-405e-485f-ac84-6a622ef44329</td>\n",
       "      <td>2019-11-17 05:52:00+00:00</td>\n",
       "      <td>purchase</td>\n",
       "      <td>479</td>\n",
       "    </tr>\n",
       "    <tr>\n",
       "      <th>1536932</th>\n",
       "      <td>2019-11-17 14:07:11+00:00</td>\n",
       "      <td>view</td>\n",
       "      <td>1004856</td>\n",
       "      <td>fffffd01-5f95-4916-b2dd-491c603d6c9c</td>\n",
       "      <td>2019-11-17 14:12:02+00:00</td>\n",
       "      <td>purchase</td>\n",
       "      <td>291</td>\n",
       "    </tr>\n",
       "  </tbody>\n",
       "</table>\n",
       "<p>1536933 rows × 7 columns</p>\n",
       "</div>"
      ],
      "text/plain": [
       "                     event_time_x event_type_x  product_id  \\\n",
       "0       2019-10-06 11:32:50+00:00         view     1004870   \n",
       "1       2019-10-25 08:32:40+00:00         view     1004834   \n",
       "2       2019-11-02 08:31:10+00:00         view    17302616   \n",
       "3       2019-11-11 03:35:08+00:00         view     5100719   \n",
       "4       2019-10-17 13:34:16+00:00         view     1005031   \n",
       "...                           ...          ...         ...   \n",
       "1536928 2019-11-25 10:51:31+00:00         view    22700127   \n",
       "1536929 2019-11-25 10:54:31+00:00         view    22700128   \n",
       "1536930 2019-11-17 05:38:10+00:00         view    12720089   \n",
       "1536931 2019-11-17 05:44:01+00:00         view    30100076   \n",
       "1536932 2019-11-17 14:07:11+00:00         view     1004856   \n",
       "\n",
       "                                 user_session              event_time_y  \\\n",
       "0        00000083-8816-4d58-a9b8-f52f54186edc 2019-10-06 11:34:30+00:00   \n",
       "1        000001fd-1f89-45e8-a3ce-fe3218cabfad 2019-10-25 08:39:11+00:00   \n",
       "2        0000145a-b981-424b-ba76-5e8f50beb12d 2019-11-02 08:35:35+00:00   \n",
       "3        00003e3b-b365-4460-bf59-fcc0c1491c97 2019-11-11 03:35:34+00:00   \n",
       "4        00004ada-8f93-49a6-956d-4ed71ae94791 2019-10-17 13:35:24+00:00   \n",
       "...                                       ...                       ...   \n",
       "1536928  fffff038-a8d6-4c8a-9bf3-afe71b52733a 2019-11-25 10:53:28+00:00   \n",
       "1536929  fffff038-a8d6-4c8a-9bf3-afe71b52733a 2019-11-25 10:56:59+00:00   \n",
       "1536930  fffff736-405e-485f-ac84-6a622ef44329 2019-11-17 05:40:56+00:00   \n",
       "1536931  fffff736-405e-485f-ac84-6a622ef44329 2019-11-17 05:52:00+00:00   \n",
       "1536932  fffffd01-5f95-4916-b2dd-491c603d6c9c 2019-11-17 14:12:02+00:00   \n",
       "\n",
       "        event_type_y  difference_times  \n",
       "0           purchase               100  \n",
       "1           purchase               391  \n",
       "2           purchase               265  \n",
       "3           purchase                26  \n",
       "4           purchase                68  \n",
       "...              ...               ...  \n",
       "1536928     purchase               117  \n",
       "1536929     purchase               148  \n",
       "1536930     purchase               166  \n",
       "1536931     purchase               479  \n",
       "1536932     purchase               291  \n",
       "\n",
       "[1536933 rows x 7 columns]"
      ]
     },
     "metadata": {},
     "output_type": "display_data"
    },
    {
     "name": "stdout",
     "output_type": "stream",
     "text": [
      "The average time that passes between the first time that an item is view and the moment in which that item is purchased is: 4.95 mins\n"
     ]
    }
   ],
   "source": [
    "avg = methods.avg_time_between_view_and_purchase(df2)\n",
    "print(f\"The average time that passes between the first time that an item is viewed and the moment in which that item is purchased is: {round(avg,2)} mins\")"
   ]
  },
  {
   "cell_type": "markdown",
   "metadata": {},
   "source": [
    "<p>&nbsp;</p>"
   ]
  },
  {
   "cell_type": "markdown",
   "metadata": {},
   "source": [
    "So, to answer the main question: we noticed that users tend to view a product an average of 1.874 times before adding it to the cart. Once an item is added to the cart, it is not garanteed to be purchased, in fact only with probability 0.38 this happens. The rest of the times the item just stays in the cart and it could expire (removed automatically) or is removed from it manually by the user.\n",
    "In conclusion the rate of complete funnels, which is given by completed operations (from view to purchase) over number of total oprations is low."
   ]
  },
  {
   "cell_type": "markdown",
   "metadata": {},
   "source": [
    "# QUESTION 2"
   ]
  },
  {
   "cell_type": "markdown",
   "metadata": {},
   "source": [
    "**RQ2.1** What are the categories of the most trending products overall? For each month visualize this information through a plot showing the number of sold products per category."
   ]
  },
  {
   "cell_type": "markdown",
   "metadata": {},
   "source": [
    "Before to execute our functions we import our datasets and select the useful columns: ***'category_code', 'event_type', 'product_id'***.\n",
    "\n",
    "This operation is made because the csv files are heavy to load and use. Also because we will use the same dataset with the <ins>same columns</ins>"
   ]
  },
  {
   "cell_type": "code",
   "execution_count": 10,
   "metadata": {},
   "outputs": [],
   "source": [
    "#import november dataset\n",
    "ndt_selection = methods.loadOneDataset(df_names[0], ['category_code', 'event_type', 'product_id'])"
   ]
  },
  {
   "cell_type": "markdown",
   "metadata": {},
   "source": [
    "We imported also the october dataset"
   ]
  },
  {
   "cell_type": "code",
   "execution_count": 11,
   "metadata": {},
   "outputs": [],
   "source": [
    "#import october dataset\n",
    "odt_selection = methods.loadOneDataset(df_names[1], ['category_code', 'event_type', 'product_id'])"
   ]
  },
  {
   "cell_type": "markdown",
   "metadata": {},
   "source": [
    "To obtain our score we restrict the dataset to the \"event_type\" column, in our case equal to \"purchase\"."
   ]
  },
  {
   "cell_type": "markdown",
   "metadata": {},
   "source": [
    "# ***NOVEMBER***"
   ]
  },
  {
   "cell_type": "code",
   "execution_count": 12,
   "metadata": {
    "scrolled": false
   },
   "outputs": [],
   "source": [
    "#plot the categories of the most trending products overall\n",
    "ndt_select = methods.restrict_dt(ndt_selection, \"purchase\", 10)"
   ]
  },
  {
   "cell_type": "markdown",
   "metadata": {},
   "source": [
    "Show the plot that we want for this question."
   ]
  },
  {
   "cell_type": "code",
   "execution_count": 13,
   "metadata": {
    "scrolled": false
   },
   "outputs": [
    {
     "data": {
      "image/png": "[encoded data removed]",
      "text/plain": [
       "<Figure size 1296x432 with 1 Axes>"
      ]
     },
     "metadata": {
      "needs_background": "light"
     },
     "output_type": "display_data"
    }
   ],
   "source": [
    "methods.plot_n_categories(ndt_select)"
   ]
  },
  {
   "cell_type": "markdown",
   "metadata": {},
   "source": [
    "We see that the category **electronics** is the most sold."
   ]
  },
  {
   "cell_type": "markdown",
   "metadata": {},
   "source": [
    "# ***OCTOBER***"
   ]
  },
  {
   "cell_type": "code",
   "execution_count": 14,
   "metadata": {
    "scrolled": false
   },
   "outputs": [],
   "source": [
    "#plot the categories of the most trending products overall\n",
    "odt_select = methods.restrict_dt(odt_selection, \"purchase\", 10)"
   ]
  },
  {
   "cell_type": "markdown",
   "metadata": {},
   "source": [
    "Show the plot that we want for this question."
   ]
  },
  {
   "cell_type": "code",
   "execution_count": 15,
   "metadata": {},
   "outputs": [
    {
     "data": {
      "image/png": "[encoded data removed]",
      "text/plain": [
       "<Figure size 1296x432 with 1 Axes>"
      ]
     },
     "metadata": {
      "needs_background": "light"
     },
     "output_type": "display_data"
    }
   ],
   "source": [
    "methods.plot_n_categories(odt_select)"
   ]
  },
  {
   "cell_type": "markdown",
   "metadata": {},
   "source": [
    "We see that the category **electronics** is the most sold."
   ]
  },
  {
   "cell_type": "markdown",
   "metadata": {},
   "source": [
    "<p>&nbsp;</p>"
   ]
  },
  {
   "cell_type": "markdown",
   "metadata": {},
   "source": [
    "**RQ2.2** Plot the most visited subcategories."
   ]
  },
  {
   "cell_type": "markdown",
   "metadata": {},
   "source": [
    "In this way, we display the subcategories and do the same thing that we saw in the last question."
   ]
  },
  {
   "cell_type": "markdown",
   "metadata": {},
   "source": [
    "# ***NOVEMBER***"
   ]
  },
  {
   "cell_type": "code",
   "execution_count": 16,
   "metadata": {},
   "outputs": [],
   "source": [
    "#plot the most visited 30 subcategories\n",
    "sub_ndf = methods.dt_subcategories(ndt_selection)"
   ]
  },
  {
   "cell_type": "markdown",
   "metadata": {},
   "source": [
    "Show the plot that we want for this question."
   ]
  },
  {
   "cell_type": "code",
   "execution_count": 17,
   "metadata": {},
   "outputs": [
    {
     "data": {
      "image/png": "[encoded data removed]",
      "text/plain": [
       "<Figure size 1296x432 with 1 Axes>"
      ]
     },
     "metadata": {
      "needs_background": "light"
     },
     "output_type": "display_data"
    }
   ],
   "source": [
    "methods.plot_n_subcategories(sub_ndf, 30)"
   ]
  },
  {
   "cell_type": "markdown",
   "metadata": {},
   "source": [
    "In this plot we see that the **smartphone** subcategory is the most sold in November."
   ]
  },
  {
   "cell_type": "markdown",
   "metadata": {},
   "source": [
    "<p>&nbsp;</p>"
   ]
  },
  {
   "cell_type": "markdown",
   "metadata": {},
   "source": [
    "# ***OCTOBER***"
   ]
  },
  {
   "cell_type": "code",
   "execution_count": 18,
   "metadata": {},
   "outputs": [],
   "source": [
    "#plot the most visited 30 subcategories\n",
    "sub_odf = methods.dt_subcategories(odt_selection)"
   ]
  },
  {
   "cell_type": "markdown",
   "metadata": {},
   "source": [
    "Show the plot that we want for this question."
   ]
  },
  {
   "cell_type": "code",
   "execution_count": 19,
   "metadata": {},
   "outputs": [
    {
     "data": {
      "image/png": "[encoded data removed]",
      "text/plain": [
       "<Figure size 1296x432 with 1 Axes>"
      ]
     },
     "metadata": {
      "needs_background": "light"
     },
     "output_type": "display_data"
    }
   ],
   "source": [
    "methods.plot_n_subcategories(sub_odf, 30)"
   ]
  },
  {
   "cell_type": "markdown",
   "metadata": {},
   "source": [
    "In this plot we see that the **smartphone** subcategory is the most sold in October."
   ]
  },
  {
   "cell_type": "markdown",
   "metadata": {},
   "source": [
    "<p>&nbsp;</p>"
   ]
  },
  {
   "cell_type": "markdown",
   "metadata": {},
   "source": [
    "**RQ2.3** What are the 10 most sold products per category?"
   ]
  },
  {
   "cell_type": "markdown",
   "metadata": {},
   "source": [
    "# ***NOVEMBER***"
   ]
  },
  {
   "cell_type": "markdown",
   "metadata": {},
   "source": [
    "For each category print 10 most sold products, but in order to have a good visualization we prefer printing only the first five categories."
   ]
  },
  {
   "cell_type": "code",
   "execution_count": 20,
   "metadata": {
    "scrolled": false
   },
   "outputs": [
    {
     "name": "stdout",
     "output_type": "stream",
     "text": [
      "The category accessories has:\n",
      "product_id\n",
      "18300021    53\n",
      "28401112    48\n",
      "18300155    42\n",
      "18300460    38\n",
      "28400759    36\n",
      "18300141    27\n",
      "28400912    24\n",
      "28401075    23\n",
      "18300214    23\n",
      "18300076    20\n",
      "Name: category_code, dtype: int64\n",
      "The category apparel has:\n",
      "product_id\n",
      "28720716    98\n",
      "54900013    89\n",
      "28716978    74\n",
      "54900004    74\n",
      "28719635    69\n",
      "28716666    65\n",
      "28719606    64\n",
      "28716519    64\n",
      "28719076    59\n",
      "28713229    58\n",
      "Name: category_code, dtype: int64\n",
      "The category appliances has:\n",
      "product_id\n",
      "3700926    1764\n",
      "3600661    1742\n",
      "3601405    1140\n",
      "3600666    1131\n",
      "2900958     903\n",
      "3700766     895\n",
      "3601603     895\n",
      "3600163     879\n",
      "2702277     675\n",
      "3701134     624\n",
      "Name: category_code, dtype: int64\n",
      "The category auto has:\n",
      "product_id\n",
      "6000094    1100\n",
      "6000227     489\n",
      "4700478     483\n",
      "5701166     274\n",
      "6000004     274\n",
      "6000229     253\n",
      "5701128     246\n",
      "5701002     244\n",
      "6000157     211\n",
      "5701086     182\n",
      "Name: category_code, dtype: int64\n",
      "The category computers has:\n",
      "product_id\n",
      "1307310    1329\n",
      "1307545     879\n",
      "1307188     829\n",
      "1307073     740\n",
      "1307067     538\n",
      "1307076     500\n",
      "1307589     473\n",
      "1307004     390\n",
      "1307187     388\n",
      "1307135     327\n",
      "Name: category_code, dtype: int64\n"
     ]
    }
   ],
   "source": [
    "#the 10 most sold products per category\n",
    "methods.most_sold_products_per_category(sub_ndf, 10)"
   ]
  },
  {
   "cell_type": "markdown",
   "metadata": {},
   "source": [
    "# ***OCTOBER***"
   ]
  },
  {
   "cell_type": "markdown",
   "metadata": {},
   "source": [
    "For each category print 10 most sold products, but in order to have a good visualization we prefer printing only the first five categories."
   ]
  },
  {
   "cell_type": "code",
   "execution_count": 21,
   "metadata": {
    "scrolled": false
   },
   "outputs": [
    {
     "name": "stdout",
     "output_type": "stream",
     "text": [
      "The category accessories has:\n",
      "product_id\n",
      "18300155    63\n",
      "18300021    34\n",
      "52900016    31\n",
      "28300780    24\n",
      "49800017    23\n",
      "28300432    21\n",
      "18300595    17\n",
      "28400774    16\n",
      "18300496    16\n",
      "18300214    16\n",
      "Name: category_code, dtype: int64\n",
      "The category apparel has:\n",
      "product_id\n",
      "28718083    72\n",
      "28715756    46\n",
      "28712682    45\n",
      "28715827    40\n",
      "28717034    39\n",
      "28715757    39\n",
      "28715829    38\n",
      "28716983    38\n",
      "28703609    38\n",
      "54900011    37\n",
      "Name: category_code, dtype: int64\n",
      "The category appliances has:\n",
      "product_id\n",
      "3700926    1675\n",
      "3600661    1482\n",
      "3600163    1017\n",
      "3600666     877\n",
      "2900536     831\n",
      "3601405     768\n",
      "3601485     627\n",
      "2701657     566\n",
      "3601244     559\n",
      "3701134     543\n",
      "Name: category_code, dtype: int64\n",
      "The category auto has:\n",
      "product_id\n",
      "6000094    785\n",
      "4700478    411\n",
      "5701128    382\n",
      "6000227    360\n",
      "5701166    304\n",
      "4700630    300\n",
      "4700589    235\n",
      "6000229    214\n",
      "6000004    206\n",
      "5700518    165\n",
      "Name: category_code, dtype: int64\n",
      "The category computers has:\n",
      "product_id\n",
      "1307310    1003\n",
      "1307073     864\n",
      "1307366     722\n",
      "1307067     651\n",
      "1306650     649\n",
      "1307074     416\n",
      "1307188     378\n",
      "1307187     356\n",
      "1306359     350\n",
      "1307350     324\n",
      "Name: category_code, dtype: int64\n"
     ]
    }
   ],
   "source": [
    "#the 10 most sold products per category\n",
    "methods.most_sold_products_per_category(sub_odf, 10)"
   ]
  },
  {
   "cell_type": "markdown",
   "metadata": {},
   "source": [
    "# QUESTION 3\n",
    "## For each category, what’s the brand whose prices are higher on average?"
   ]
  },
  {
   "cell_type": "markdown",
   "metadata": {},
   "source": [
    "To answer these questions we only need the columns 'category_code','brand','price'. For this reason we decided to read only these 3 when uploading the dataframes"
   ]
  },
  {
   "cell_type": "code",
   "execution_count": 16,
   "metadata": {},
   "outputs": [],
   "source": [
    "df3 = methods.loadAllDatasets(df_names, ['category_code','price','brand'])"
   ]
  },
  {
   "cell_type": "markdown",
   "metadata": {},
   "source": [
    "<p>&nbsp;</p>"
   ]
  },
  {
   "cell_type": "markdown",
   "metadata": {},
   "source": [
    "**RQ3.1** Write a function that asks the user a category in input and returns a plot indicating the average price of the products sold by the brand."
   ]
  },
  {
   "cell_type": "markdown",
   "metadata": {},
   "source": [
    "First thing first, we apply a function that chooses randomly one category_code from all the ones available"
   ]
  },
  {
   "cell_type": "code",
   "execution_count": 17,
   "metadata": {
    "scrolled": true
   },
   "outputs": [
    {
     "data": {
      "text/plain": [
       "'apparel.shirt'"
      ]
     },
     "execution_count": 17,
     "metadata": {},
     "output_type": "execute_result"
    }
   ],
   "source": [
    "category = methods.choose_category(df3)\n",
    "category"
   ]
  },
  {
   "cell_type": "markdown",
   "metadata": {},
   "source": [
    "Now that we have our category, we call a functions thar shows the average price of the products sold by each brand inside it"
   ]
  },
  {
   "cell_type": "code",
   "execution_count": 18,
   "metadata": {
    "scrolled": true
   },
   "outputs": [
    {
     "data": {
      "text/plain": [
       "<matplotlib.axes._subplots.AxesSubplot at 0x10478b670>"
      ]
     },
     "execution_count": 18,
     "metadata": {},
     "output_type": "execute_result"
    },
    {
     "data": {
      "image/png": "[encoded data removed]",
      "text/plain": [
       "<Figure size 1080x504 with 1 Axes>"
      ]
     },
     "metadata": {
      "needs_background": "light"
     },
     "output_type": "display_data"
    }
   ],
   "source": [
    "methods.avg_price(category, df3)"
   ]
  },
  {
   "cell_type": "markdown",
   "metadata": {},
   "source": [
    "So, for example, if we select the category code **apparel.shirt**, there are several brands that offers it. Among all of those, the one that, in average, offers products with a higher price, is **weekend**\n",
    "<p>&nbsp;</p>"
   ]
  },
  {
   "cell_type": "markdown",
   "metadata": {},
   "source": [
    "**RQ3.2** Find, for each category, the brand with the highest average price. Return all the results in ascending order by price."
   ]
  },
  {
   "cell_type": "code",
   "execution_count": 19,
   "metadata": {
    "scrolled": true
   },
   "outputs": [
    {
     "data": {
      "text/html": [
       "<div>\n",
       "<style scoped>\n",
       "    .dataframe tbody tr th:only-of-type {\n",
       "        vertical-align: middle;\n",
       "    }\n",
       "\n",
       "    .dataframe tbody tr th {\n",
       "        vertical-align: top;\n",
       "    }\n",
       "\n",
       "    .dataframe thead th {\n",
       "        text-align: right;\n",
       "    }\n",
       "</style>\n",
       "<table border=\"1\" class=\"dataframe\">\n",
       "  <thead>\n",
       "    <tr style=\"text-align: right;\">\n",
       "      <th></th>\n",
       "      <th>0</th>\n",
       "      <th>1</th>\n",
       "      <th>2</th>\n",
       "    </tr>\n",
       "  </thead>\n",
       "  <tbody>\n",
       "    <tr>\n",
       "      <th>0</th>\n",
       "      <td>construction.tools.soldering</td>\n",
       "      <td>zubr</td>\n",
       "      <td>19.709</td>\n",
       "    </tr>\n",
       "    <tr>\n",
       "      <th>1</th>\n",
       "      <td>auto.accessories.anti_freeze</td>\n",
       "      <td>ravenol</td>\n",
       "      <td>20.306</td>\n",
       "    </tr>\n",
       "    <tr>\n",
       "      <th>2</th>\n",
       "      <td>apparel.shoes.espadrilles</td>\n",
       "      <td>rieker</td>\n",
       "      <td>22.650</td>\n",
       "    </tr>\n",
       "    <tr>\n",
       "      <th>3</th>\n",
       "      <td>apparel.scarf</td>\n",
       "      <td>fabretti</td>\n",
       "      <td>23.953</td>\n",
       "    </tr>\n",
       "    <tr>\n",
       "      <th>4</th>\n",
       "      <td>accessories.umbrella</td>\n",
       "      <td>hoco</td>\n",
       "      <td>25.710</td>\n",
       "    </tr>\n",
       "    <tr>\n",
       "      <th>...</th>\n",
       "      <td>...</td>\n",
       "      <td>...</td>\n",
       "      <td>...</td>\n",
       "    </tr>\n",
       "    <tr>\n",
       "      <th>124</th>\n",
       "      <td>appliances.kitchen.refrigerators</td>\n",
       "      <td>climadiff</td>\n",
       "      <td>2261.951</td>\n",
       "    </tr>\n",
       "    <tr>\n",
       "      <th>125</th>\n",
       "      <td>sport.ski</td>\n",
       "      <td>kessler</td>\n",
       "      <td>2372.000</td>\n",
       "    </tr>\n",
       "    <tr>\n",
       "      <th>126</th>\n",
       "      <td>sport.trainer</td>\n",
       "      <td>nordictrack</td>\n",
       "      <td>2522.590</td>\n",
       "    </tr>\n",
       "    <tr>\n",
       "      <th>127</th>\n",
       "      <td>sport.bicycle</td>\n",
       "      <td>pinarello</td>\n",
       "      <td>2533.238</td>\n",
       "    </tr>\n",
       "    <tr>\n",
       "      <th>128</th>\n",
       "      <td>electronics.audio.acoustic</td>\n",
       "      <td>fly</td>\n",
       "      <td>2562.630</td>\n",
       "    </tr>\n",
       "  </tbody>\n",
       "</table>\n",
       "<p>129 rows × 3 columns</p>\n",
       "</div>"
      ],
      "text/plain": [
       "                                    0            1         2\n",
       "0        construction.tools.soldering         zubr    19.709\n",
       "1        auto.accessories.anti_freeze      ravenol    20.306\n",
       "2           apparel.shoes.espadrilles       rieker    22.650\n",
       "3                       apparel.scarf     fabretti    23.953\n",
       "4                accessories.umbrella         hoco    25.710\n",
       "..                                ...          ...       ...\n",
       "124  appliances.kitchen.refrigerators    climadiff  2261.951\n",
       "125                         sport.ski      kessler  2372.000\n",
       "126                     sport.trainer  nordictrack  2522.590\n",
       "127                     sport.bicycle    pinarello  2533.238\n",
       "128        electronics.audio.acoustic          fly  2562.630\n",
       "\n",
       "[129 rows x 3 columns]"
      ]
     },
     "execution_count": 19,
     "metadata": {},
     "output_type": "execute_result"
    }
   ],
   "source": [
    "methods.highest_avg_price(df3) "
   ]
  },
  {
   "cell_type": "markdown",
   "metadata": {},
   "source": [
    "The Data Frame in output has 3 different columns:\n",
    "- **0**: is representing the **category_code**\n",
    "- **1**: is representing the **brand** with the highest average price in that specific category code\n",
    "- **2**: is representing the **price** associated with that specific brand\n",
    "\n",
    "So, for example, inside the category *accessories.umbrellas*, we can see that the highest price in averege is offered by *hoco* (25,71$), and this category is the fifth cheapest af all.\n",
    "The results are also sorted so that the prices are in order from the smallest to the largest value.\n",
    "<p>&nbsp;</p>"
   ]
  },
  {
   "cell_type": "markdown",
   "metadata": {},
   "source": [
    "# QUESTION 4"
   ]
  },
  {
   "cell_type": "markdown",
   "metadata": {},
   "source": [
    "***How much does each brand earn per month? Write a function that given the name of a brand in input returns, for each month, its profit.***"
   ]
  },
  {
   "cell_type": "markdown",
   "metadata": {},
   "source": [
    "Before starting with the homework request, we pick a brand name by input for showing its profit for each month"
   ]
  },
  {
   "cell_type": "code",
   "execution_count": 1,
   "metadata": {},
   "outputs": [
    {
     "name": "stdout",
     "output_type": "stream",
     "text": [
      "Choose a brand to see its profit: apple\n"
     ]
    }
   ],
   "source": [
    "#which brand do you want to search.. randomize the choice!\n",
    "brand_to_search = input(\"Choose a brand to see its profit: \")"
   ]
  },
  {
   "cell_type": "markdown",
   "metadata": {},
   "source": [
    "Before to execute our functions import our datasets and we select the useful columns: ***'event_type', 'brand', 'price'***.\n",
    "\n",
    "This operation is made because the csv files are heavy to load and use. Also because we will use the same dataset with the <ins>same columns</ins>"
   ]
  },
  {
   "cell_type": "code",
   "execution_count": 4,
   "metadata": {},
   "outputs": [],
   "source": [
    "#import november dataset\n",
    "ndt_selection = methods.loadOneDataset(df_names[0], ['event_type', 'brand', 'price'])"
   ]
  },
  {
   "cell_type": "markdown",
   "metadata": {},
   "source": [
    "We imported also the october dataset"
   ]
  },
  {
   "cell_type": "code",
   "execution_count": 5,
   "metadata": {},
   "outputs": [],
   "source": [
    "#import october dataset\n",
    "odt_selection = methods.loadOneDataset(df_names[1], ['event_type', 'brand', 'price'])"
   ]
  },
  {
   "cell_type": "markdown",
   "metadata": {},
   "source": [
    "To obtain our score we restrict the dataset to the \"event_type\" column, in our case equal to \"purchase\" compare also with the brand_to_search."
   ]
  },
  {
   "cell_type": "markdown",
   "metadata": {},
   "source": [
    "# ***NOVEMBER***"
   ]
  },
  {
   "cell_type": "code",
   "execution_count": 6,
   "metadata": {
    "scrolled": false
   },
   "outputs": [],
   "source": [
    "#how much does each brand earn per month?\n",
    "new_ndt_sum = methods.restrict_bypurchase_brand(ndt_selection, brand_to_search)"
   ]
  },
  {
   "cell_type": "markdown",
   "metadata": {},
   "source": [
    "How much is the profit of your brand?"
   ]
  },
  {
   "cell_type": "code",
   "execution_count": 7,
   "metadata": {},
   "outputs": [
    {
     "name": "stdout",
     "output_type": "stream",
     "text": [
      "The apple has a profit of: 127512524$\n"
     ]
    }
   ],
   "source": [
    "print(f\"The {brand_to_search} has a profit of: {new_ndt_sum}$\")"
   ]
  },
  {
   "cell_type": "markdown",
   "metadata": {},
   "source": [
    "# ***OCTOBER***"
   ]
  },
  {
   "cell_type": "code",
   "execution_count": 8,
   "metadata": {
    "scrolled": false
   },
   "outputs": [],
   "source": [
    "#how much does each brand earn per month?\n",
    "new_oct_sum = methods.restrict_bypurchase_brand(odt_selection, brand_to_search)"
   ]
  },
  {
   "cell_type": "markdown",
   "metadata": {},
   "source": [
    "How much is the profit of your brand?"
   ]
  },
  {
   "cell_type": "code",
   "execution_count": 9,
   "metadata": {},
   "outputs": [
    {
     "name": "stdout",
     "output_type": "stream",
     "text": [
      "The apple has a profit of: 111209268$\n"
     ]
    }
   ],
   "source": [
    "print(f\"The {brand_to_search} has a profit of: {new_oct_sum}$\")"
   ]
  },
  {
   "cell_type": "markdown",
   "metadata": {},
   "source": [
    "***Is the average price of products of different brands significantly different?*** We will see..."
   ]
  },
  {
   "cell_type": "markdown",
   "metadata": {},
   "source": [
    "# ***NOVEMBER***"
   ]
  },
  {
   "cell_type": "code",
   "execution_count": 10,
   "metadata": {
    "scrolled": false
   },
   "outputs": [
    {
     "data": {
      "text/plain": [
       "brand\n",
       "a-case                8.599149\n",
       "a-elita               8.490000\n",
       "a-mega               75.723333\n",
       "aardwolf             31.300000\n",
       "absolutechampion    166.030000\n",
       "                       ...    \n",
       "zotac               272.305714\n",
       "zte                  79.501161\n",
       "zubr                 89.318436\n",
       "zuru                 12.840000\n",
       "zvezda               11.970000\n",
       "Name: price, Length: 2486, dtype: float64"
      ]
     },
     "execution_count": 10,
     "metadata": {},
     "output_type": "execute_result"
    }
   ],
   "source": [
    "#see the average for each brand, is significant?\n",
    "new_ndt_mean = methods.restrict_bypurchase_brand_avg(ndt_selection)\n",
    "new_ndt_mean"
   ]
  },
  {
   "cell_type": "markdown",
   "metadata": {},
   "source": [
    "# ***OCTOBER***"
   ]
  },
  {
   "cell_type": "code",
   "execution_count": 11,
   "metadata": {
    "scrolled": true
   },
   "outputs": [
    {
     "data": {
      "text/plain": [
       "brand\n",
       "a-case       4.745862\n",
       "a-derma     12.360000\n",
       "a-mega     114.607778\n",
       "abk         11.560000\n",
       "abtoys      46.310000\n",
       "              ...    \n",
       "zoom       167.310000\n",
       "zotac       69.857500\n",
       "zte         78.750694\n",
       "zubr        47.075000\n",
       "zuru        12.840000\n",
       "Name: price, Length: 1983, dtype: float64"
      ]
     },
     "execution_count": 11,
     "metadata": {},
     "output_type": "execute_result"
    }
   ],
   "source": [
    "#see the average for each brand, is significant?\n",
    "new_odt_mean = methods.restrict_bypurchase_brand_avg(odt_selection)\n",
    "new_odt_mean"
   ]
  },
  {
   "cell_type": "markdown",
   "metadata": {},
   "source": [
    "<span style=\"color:red\"> ***We can say that the brand name is significant for the product type (it's obvious).*** </span>\n",
    "\n",
    "<p>&nbsp;</p>\n",
    "\n",
    "**RQ4.1** Using the function you just created, find the top 3 brands that have suffered the biggest losses in earnings between one month and the next, specifing bothe the loss percentage and the 2 months (e.g., brand_1 lost 20% between march and april)."
   ]
  },
  {
   "cell_type": "code",
   "execution_count": 12,
   "metadata": {},
   "outputs": [],
   "source": [
    "biggest_lose = methods.big_lose(ndt_selection, odt_selection)"
   ]
  },
  {
   "cell_type": "markdown",
   "metadata": {},
   "source": [
    "Now we plot the top 3 brands that have suffered the biggest losses in earnings between october and november."
   ]
  },
  {
   "cell_type": "code",
   "execution_count": 13,
   "metadata": {
    "scrolled": true
   },
   "outputs": [
    {
     "name": "stdout",
     "output_type": "stream",
     "text": [
      "The brand jonnesway has lose the 2862 % between october and november\n",
      "The brand sunfull has lose the 2399 % between october and november\n",
      "The brand evga has lose the 2338 % between october and november\n"
     ]
    }
   ],
   "source": [
    "methods.summarize(biggest_lose)"
   ]
  },
  {
   "cell_type": "markdown",
   "metadata": {},
   "source": [
    "<p>&nbsp;</p>\n",
    "\n",
    "# QUESTION 5\n",
    "\n",
    "##  In what part of the day is your store most visited?"
   ]
  },
  {
   "cell_type": "markdown",
   "metadata": {},
   "source": [
    "To answer the question, we only need to import two columns: *event_type* and *even_time*. We also need to parse the dates"
   ]
  },
  {
   "cell_type": "code",
   "execution_count": 3,
   "metadata": {},
   "outputs": [],
   "source": [
    "df5 = methods.import_dataset5(df_names)"
   ]
  },
  {
   "cell_type": "markdown",
   "metadata": {},
   "source": [
    "Now we can start analyzing our data. We can create different plots that show the most visited time of the day and the most visited day of the week"
   ]
  },
  {
   "cell_type": "code",
   "execution_count": 4,
   "metadata": {
    "scrolled": true
   },
   "outputs": [
    {
     "data": {
      "image/png": "[encoded data removed]",
      "text/plain": [
       "<Figure size 432x288 with 1 Axes>"
      ]
     },
     "metadata": {
      "needs_background": "light"
     },
     "output_type": "display_data"
    }
   ],
   "source": [
    "methods.most_visited_time(df5)"
   ]
  },
  {
   "cell_type": "markdown",
   "metadata": {},
   "source": [
    "In this first plot we notice that usually people are more active it the afternoon, in fact the three most visited times of the day are the ones from 3PM to 5PM"
   ]
  },
  {
   "cell_type": "code",
   "execution_count": 5,
   "metadata": {
    "scrolled": false
   },
   "outputs": [
    {
     "data": {
      "image/png": "[encoded data removed]",
      "text/plain": [
       "<Figure size 432x288 with 1 Axes>"
      ]
     },
     "metadata": {
      "needs_background": "light"
     },
     "output_type": "display_data"
    }
   ],
   "source": [
    "methods.most_visited_day(df5)"
   ]
  },
  {
   "cell_type": "markdown",
   "metadata": {},
   "source": [
    "In this second analysis we noticed that over all the days of the week **Friday** and **Saturday** are the one with more views \n",
    "\n",
    "*Notice that on the x-axis the day of the week are indicated by numbers from 0 to 6; where 0 corresponds to Monday and 6 to Sunday*.\n",
    "\n",
    "<p>&nbsp;</p>\n",
    "\n",
    "Now we can 'merge' the two results and see, for each day of the week the average views of our online store splitted by hour."
   ]
  },
  {
   "cell_type": "markdown",
   "metadata": {},
   "source": [
    "**RQ5.1** Create a plot that for each day of the week show the hourly average of visitors your store has."
   ]
  },
  {
   "cell_type": "code",
   "execution_count": 6,
   "metadata": {
    "scrolled": false
   },
   "outputs": [
    {
     "data": {
      "image/png": "[encoded data removed]",
      "text/plain": [
       "<Figure size 432x288 with 1 Axes>"
      ]
     },
     "metadata": {
      "needs_background": "light"
     },
     "output_type": "display_data"
    },
    {
     "data": {
      "image/png": "[encoded data removed]",
      "text/plain": [
       "<Figure size 432x288 with 1 Axes>"
      ]
     },
     "metadata": {
      "needs_background": "light"
     },
     "output_type": "display_data"
    },
    {
     "data": {
      "image/png": "[encoded data removed]",
      "text/plain": [
       "<Figure size 432x288 with 1 Axes>"
      ]
     },
     "metadata": {
      "needs_background": "light"
     },
     "output_type": "display_data"
    },
    {
     "data": {
      "image/png": "[encoded data removed]",
      "text/plain": [
       "<Figure size 432x288 with 1 Axes>"
      ]
     },
     "metadata": {
      "needs_background": "light"
     },
     "output_type": "display_data"
    },
    {
     "data": {
      "image/png": "[encoded data removed]",
      "text/plain": [
       "<Figure size 432x288 with 1 Axes>"
      ]
     },
     "metadata": {
      "needs_background": "light"
     },
     "output_type": "display_data"
    },
    {
     "data": {
      "image/png": "[encoded data removed]",
      "text/plain": [
       "<Figure size 432x288 with 1 Axes>"
      ]
     },
     "metadata": {
      "needs_background": "light"
     },
     "output_type": "display_data"
    },
    {
     "data": {
      "image/png": "[encoded data removed]",
      "text/plain": [
       "<Figure size 432x288 with 1 Axes>"
      ]
     },
     "metadata": {
      "needs_background": "light"
     },
     "output_type": "display_data"
    }
   ],
   "source": [
    "methods.avg_visitors_perday(df5)"
   ]
  },
  {
   "cell_type": "markdown",
   "metadata": {},
   "source": [
    "**Comment:** we can see how, on average, the hours of the day where the store is most visited are between 3pm and 5pm. This is valid for every day of the week. We can also notice that the graph follows pretty much the same shape during all week: the views start increasing quickly from midnight untill there is a 'plateau' for some hours (5am - 1pm). From 1pm there is a peak in the early afternoon that ends with a drastic drop of view at around 6pm that continues untill 12pm where we have the lowest values.\n",
    "\n",
    "**To answer the question**, we suggest to invest in ads and othere marketing strategies in the early hours of the afternoon in each day, because, as the graphics suggests, those are the hours with the most affluence."
   ]
  },
  {
   "cell_type": "markdown",
   "metadata": {},
   "source": [
    "# QUESTION 6"
   ]
  },
  {
   "cell_type": "markdown",
   "metadata": {},
   "source": [
    "***What's the conversion rate of your online store?***"
   ]
  },
  {
   "cell_type": "markdown",
   "metadata": {},
   "source": [
    "First of all... What is the conversion rate? \n",
    "\n",
    "**Conversion rate** of a product is given by the <ins>purchase</ins> rate over the number of times the product has been visited."
   ]
  },
  {
   "cell_type": "markdown",
   "metadata": {},
   "source": [
    "...and what is the purchase rate? \n",
    "\n",
    "**Purchase rate** is the proportion of purchases versus a base metric such as users, sessions, email subscribers, etc. with a generic formula being PR = P/N where P is the number of purchases and N is the number of events during which a conversion could have occurred."
   ]
  },
  {
   "cell_type": "code",
   "execution_count": 22,
   "metadata": {},
   "outputs": [],
   "source": [
    "purchase_rate = methods.purchase_rate(df_names)"
   ]
  },
  {
   "cell_type": "markdown",
   "metadata": {},
   "source": [
    "now we calculate the conversion rate"
   ]
  },
  {
   "cell_type": "markdown",
   "metadata": {},
   "source": [
    "**RQ6.1** Find the overall conversion rate of your store."
   ]
  },
  {
   "cell_type": "code",
   "execution_count": 23,
   "metadata": {},
   "outputs": [
    {
     "data": {
      "text/plain": [
       "0.00795408972414176"
      ]
     },
     "execution_count": 23,
     "metadata": {},
     "output_type": "execute_result"
    }
   ],
   "source": [
    "conversion_rate = methods.conversion_rate(purchase_rate, df_names)\n",
    "conversion_rate"
   ]
  },
  {
   "cell_type": "markdown",
   "metadata": {},
   "source": [
    "The value returned is a good value to understand what is going on in our online store.. this is pretty low.."
   ]
  },
  {
   "cell_type": "markdown",
   "metadata": {},
   "source": [
    "**RQ6.2** Plot the number of purchases of each category and show the conversion rate of each category in decreasing order."
   ]
  },
  {
   "cell_type": "code",
   "execution_count": 24,
   "metadata": {
    "scrolled": false
   },
   "outputs": [
    {
     "data": {
      "image/png": "[encoded data removed]",
      "text/plain": [
       "<Figure size 1296x432 with 1 Axes>"
      ]
     },
     "metadata": {
      "needs_background": "light"
     },
     "output_type": "display_data"
    }
   ],
   "source": [
    "purchase_dt = methods.percategory_show_purchases(df_names)"
   ]
  },
  {
   "cell_type": "markdown",
   "metadata": {},
   "source": [
    "Now we will prepare our conversion rate per each category. \n",
    "\n",
    "We want to have the number of categories, then we will make the conversion rate."
   ]
  },
  {
   "cell_type": "code",
   "execution_count": 25,
   "metadata": {
    "scrolled": false
   },
   "outputs": [
    {
     "data": {
      "text/plain": [
       "category_code\n",
       "accessories.bag         505378\n",
       "accessories.umbrella      8912\n",
       "accessories.wallet      113986\n",
       "apparel.belt              7167\n",
       "apparel.costume         380291\n",
       "                         ...  \n",
       "sport.ski                19759\n",
       "sport.snowboard          21689\n",
       "sport.tennis             11285\n",
       "sport.trainer           132787\n",
       "stationery.cartrige      20398\n",
       "Name: user_session, Length: 129, dtype: int64"
      ]
     },
     "execution_count": 25,
     "metadata": {},
     "output_type": "execute_result"
    }
   ],
   "source": [
    "eachcategory_num = methods.number_categories(df_names)\n",
    "eachcategory_num"
   ]
  },
  {
   "cell_type": "markdown",
   "metadata": {},
   "source": [
    "the conversion rate is for each category in **decreasing** oder"
   ]
  },
  {
   "cell_type": "code",
   "execution_count": 26,
   "metadata": {},
   "outputs": [
    {
     "data": {
      "text/plain": [
       "category_code\n",
       "kids.fmcg.diapers                0.027530\n",
       "electronics.smartphone           0.025847\n",
       "electronics.audio.headphone      0.024455\n",
       "appliances.kitchen.microwave     0.018461\n",
       "appliances.personal.scales       0.018141\n",
       "                                   ...   \n",
       "construction.tools.soldering     0.001684\n",
       "apparel.shoes.slipons            0.001505\n",
       "country_yard.furniture.hammok    0.001425\n",
       "apparel.skirt                    0.001419\n",
       "apparel.dress                    0.000949\n",
       "Length: 127, dtype: float64"
      ]
     },
     "execution_count": 26,
     "metadata": {},
     "output_type": "execute_result"
    }
   ],
   "source": [
    "cvrate = methods.conversion_rate_percategory(df_names, eachcategory_num)\n",
    "cvrate"
   ]
  },
  {
   "cell_type": "markdown",
   "metadata": {},
   "source": [
    "we can say that there are lower purchase rates presented in our online store"
   ]
  },
  {
   "cell_type": "markdown",
   "metadata": {},
   "source": [
    "# QUESTION 7"
   ]
  },
  {
   "cell_type": "markdown",
   "metadata": {},
   "source": [
    "The Pareto principle states that for many outcomes roughly 80% of consequences come from 20% of the causes. Also known as 80/20 rule, in e-commerce simply means that most of your business, around 80%, likely comes from about 20% of your customers.\n",
    "**Prove that the pareto principle applies to your store.**"
   ]
  },
  {
   "cell_type": "markdown",
   "metadata": {},
   "source": [
    "To answer this question we first have to import only the columns of the concatenated dataset that we need. In this case those are: *event_type*, *user_id*, *price* and *product_id*"
   ]
  },
  {
   "cell_type": "code",
   "execution_count": 4,
   "metadata": {},
   "outputs": [],
   "source": [
    "df7 = fn.read_data(df_names)"
   ]
  },
  {
   "cell_type": "markdown",
   "metadata": {},
   "source": [
    "Now we can calculate the total profits of our store given from all the purchases made by all the users in two months. We also compute the 80% of them"
   ]
  },
  {
   "cell_type": "code",
   "execution_count": 5,
   "metadata": {
    "scrolled": true
   },
   "outputs": [
    {
     "name": "stdout",
     "output_type": "stream",
     "text": [
      "80% of the profit corresponds to 404121914.22$\n"
     ]
    }
   ],
   "source": [
    "purchases = df7[df7.event_type=='purchase'].price.sum()\n",
    "pur_80 = .8*purchases\n",
    "print(f'80% of the profit corresponds to {round(pur_80,2)}$')"
   ]
  },
  {
   "cell_type": "markdown",
   "metadata": {},
   "source": [
    "We can now calculate how much the top 20% of the users (the ones that spent the most) spent during the whole months of October and November"
   ]
  },
  {
   "cell_type": "code",
   "execution_count": 6,
   "metadata": {
    "scrolled": false
   },
   "outputs": [
    {
     "data": {
      "text/html": [
       "<div>\n",
       "<style scoped>\n",
       "    .dataframe tbody tr th:only-of-type {\n",
       "        vertical-align: middle;\n",
       "    }\n",
       "\n",
       "    .dataframe tbody tr th {\n",
       "        vertical-align: top;\n",
       "    }\n",
       "\n",
       "    .dataframe thead th {\n",
       "        text-align: right;\n",
       "    }\n",
       "</style>\n",
       "<table border=\"1\" class=\"dataframe\">\n",
       "  <thead>\n",
       "    <tr style=\"text-align: right;\">\n",
       "      <th></th>\n",
       "      <th>tot_sales</th>\n",
       "    </tr>\n",
       "    <tr>\n",
       "      <th>user_id</th>\n",
       "      <th></th>\n",
       "    </tr>\n",
       "  </thead>\n",
       "  <tbody>\n",
       "    <tr>\n",
       "      <th>512386086</th>\n",
       "      <td>344153.29</td>\n",
       "    </tr>\n",
       "    <tr>\n",
       "      <th>515384420</th>\n",
       "      <td>303144.24</td>\n",
       "    </tr>\n",
       "    <tr>\n",
       "      <th>513117637</th>\n",
       "      <td>266331.24</td>\n",
       "    </tr>\n",
       "    <tr>\n",
       "      <th>519267944</th>\n",
       "      <td>265569.52</td>\n",
       "    </tr>\n",
       "    <tr>\n",
       "      <th>518514099</th>\n",
       "      <td>203986.07</td>\n",
       "    </tr>\n",
       "    <tr>\n",
       "      <th>...</th>\n",
       "      <td>...</td>\n",
       "    </tr>\n",
       "    <tr>\n",
       "      <th>567111546</th>\n",
       "      <td>860.41</td>\n",
       "    </tr>\n",
       "    <tr>\n",
       "      <th>546982605</th>\n",
       "      <td>860.41</td>\n",
       "    </tr>\n",
       "    <tr>\n",
       "      <th>537925505</th>\n",
       "      <td>860.38</td>\n",
       "    </tr>\n",
       "    <tr>\n",
       "      <th>533288196</th>\n",
       "      <td>860.36</td>\n",
       "    </tr>\n",
       "    <tr>\n",
       "      <th>513601897</th>\n",
       "      <td>860.35</td>\n",
       "    </tr>\n",
       "  </tbody>\n",
       "</table>\n",
       "<p>139494 rows × 1 columns</p>\n",
       "</div>"
      ],
      "text/plain": [
       "           tot_sales\n",
       "user_id             \n",
       "512386086  344153.29\n",
       "515384420  303144.24\n",
       "513117637  266331.24\n",
       "519267944  265569.52\n",
       "518514099  203986.07\n",
       "...              ...\n",
       "567111546     860.41\n",
       "546982605     860.41\n",
       "537925505     860.38\n",
       "533288196     860.36\n",
       "513601897     860.35\n",
       "\n",
       "[139494 rows x 1 columns]"
      ]
     },
     "metadata": {},
     "output_type": "display_data"
    }
   ],
   "source": [
    "profit_from_top_users = fn.proof_pareto_principle(df7)"
   ]
  },
  {
   "cell_type": "code",
   "execution_count": 7,
   "metadata": {
    "scrolled": false
   },
   "outputs": [
    {
     "name": "stdout",
     "output_type": "stream",
     "text": [
      "20% of the top users spend 364222233.81$\n"
     ]
    }
   ],
   "source": [
    "print(f'20% of the top users spend {profit_from_top_users}$')"
   ]
  },
  {
   "cell_type": "markdown",
   "metadata": {},
   "source": [
    "As we can see, the two results are really close. \n",
    "\n",
    "This proves the Pareto Principle that states, in fact, how usually 80% of the profits for a store, come from 20% of the users"
   ]
  }
 ],
 "metadata": {
  "kernelspec": {
   "display_name": "Python 3",
   "language": "python",
   "name": "python3"
  },
  "language_info": {
   "codemirror_mode": {
    "name": "ipython",
    "version": 3
   },
   "file_extension": ".py",
   "mimetype": "text/x-python",
   "name": "python",
   "nbconvert_exporter": "python",
   "pygments_lexer": "ipython3",
   "version": "3.8.3"
  }
 },
 "nbformat": 4,
 "nbformat_minor": 4
}
